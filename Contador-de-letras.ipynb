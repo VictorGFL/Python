{
  "nbformat": 4,
  "nbformat_minor": 0,
  "metadata": {
    "colab": {
      "provenance": [],
      "authorship_tag": "ABX9TyMG9R+aufxWaMRLgzXqBiX9",
      "include_colab_link": true
    },
    "kernelspec": {
      "name": "python3",
      "display_name": "Python 3"
    },
    "language_info": {
      "name": "python"
    }
  },
  "cells": [
    {
      "cell_type": "markdown",
      "metadata": {
        "id": "view-in-github",
        "colab_type": "text"
      },
      "source": [
        "<a href=\"https://colab.research.google.com/github/VictorGFL/Python/blob/main/C%C3%B3pia_de_Contador_de_letras.ipynb\" target=\"_parent\"><img src=\"https://colab.research.google.com/assets/colab-badge.svg\" alt=\"Open In Colab\"/></a>"
      ]
    },
    {
      "cell_type": "code",
      "execution_count": null,
      "metadata": {
        "id": "ps7eioSMFwBh"
      },
      "outputs": [],
      "source": [
        "frase = input('Digite/cole a frase a ser verificada:')\n",
        "\n",
        "letra = input('Digite a letra a ser procurada na frase:')\n",
        "\n",
        "print(str(frase.count(letra)))"
      ]
    }
  ]
}
