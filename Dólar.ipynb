{
  "nbformat": 4,
  "nbformat_minor": 0,
  "metadata": {
    "colab": {
      "provenance": [],
      "authorship_tag": "ABX9TyMx6cD//PDLYdhGlxeh//IY",
      "include_colab_link": true
    },
    "kernelspec": {
      "name": "python3",
      "display_name": "Python 3"
    },
    "language_info": {
      "name": "python"
    }
  },
  "cells": [
    {
      "cell_type": "markdown",
      "metadata": {
        "id": "view-in-github",
        "colab_type": "text"
      },
      "source": [
        "<a href=\"https://colab.research.google.com/github/VictorGFL/Python/blob/main/D%C3%B3lar.ipynb\" target=\"_parent\"><img src=\"https://colab.research.google.com/assets/colab-badge.svg\" alt=\"Open In Colab\"/></a>"
      ]
    },
    {
      "cell_type": "markdown",
      "source": [],
      "metadata": {
        "id": "KofbPZfQn-MH"
      }
    },
    {
      "cell_type": "code",
      "execution_count": 97,
      "metadata": {
        "colab": {
          "base_uri": "https://localhost:8080/"
        },
        "id": "lZ3dYUu9n8Cq",
        "outputId": "972f08cf-2726-41f7-f071-d5be817f43d5"
      },
      "outputs": [
        {
          "output_type": "stream",
          "name": "stdout",
          "text": [
            "R$5.21\n"
          ]
        }
      ],
      "source": [
        "import requests\n",
        "import datetime \n",
        "\n",
        "hoje = datetime.date.today()\n",
        "\n",
        "data = hoje\n",
        "dado = data.strftime('%m-%d-%Y')\n",
        "url = \"https://olinda.bcb.gov.br/olinda/servico/PTAX/versao/v1/odata/CotacaoDolarDia(dataCotacao=@dataCotacao)?@dataCotacao='{}'&$top=100&$format=json\".format(dado)\n",
        "req = requests.get(url)\n",
        "\n",
        "if req.status_code == 200:\n",
        "    cotacao = req.json().get('value')[0].get('cotacaoCompra')\n",
        "    print('R$%.2f' % cotacao)"
      ]
    }
  ]
}