{
  "nbformat": 4,
  "nbformat_minor": 0,
  "metadata": {
    "colab": {
      "provenance": [],
      "authorship_tag": "ABX9TyP1riTknVuuVyXvjkBkBM2h",
      "include_colab_link": true
    },
    "kernelspec": {
      "name": "python3",
      "display_name": "Python 3"
    },
    "language_info": {
      "name": "python"
    }
  },
  "cells": [
    {
      "cell_type": "markdown",
      "metadata": {
        "id": "view-in-github",
        "colab_type": "text"
      },
      "source": [
        "<a href=\"https://colab.research.google.com/github/VictorGFL/Python/blob/main/Calculadora-fatorial.ipynb\" target=\"_parent\"><img src=\"https://colab.research.google.com/assets/colab-badge.svg\" alt=\"Open In Colab\"/></a>"
      ]
    },
    {
      "cell_type": "code",
      "execution_count": null,
      "metadata": {
        "id": "SJ-JoqK86jMp"
      },
      "outputs": [],
      "source": [
        "#Calculadora fatorial\n",
        "numero = int( input('Para o cálculo digite um número inteiro não negativo: '))\n",
        "resultado = 1\n",
        "count = 1\n",
        "\n",
        "while count <= numero:\n",
        "    resultado *= count\n",
        "    count += 1\n",
        "\n",
        "print('{0}! = {1}'.format(numero, resultado))"
      ]
    }
  ]
}